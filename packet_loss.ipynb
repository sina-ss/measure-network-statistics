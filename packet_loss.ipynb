{
 "cells": [
  {
   "cell_type": "markdown",
   "metadata": {},
   "source": [
    "# Measure Packet Loss\n",
    "\n",
    "Packet loss, unlike download and upload speeds, is a measure where lower values are better. Even a small percentage of packet loss can significantly degrade the quality of a VoIP call or online gaming experience, for example.\n",
    "\n",
    "We use decay function for it.\n",
    "The exponential decay function is of the form:  \n",
    "\\[\n",
    "P(p) = L \\cdot e^{-k \\cdot p}\n",
    "\\]\n",
    "\n",
    "Where:\n",
    "- \\( P(p) \\) is the percentage for a given ping \\( p \\).\n",
    "- \\( L \\) is a scaling factor, typically set to the maximum value (e.g., 100 for percentages).\n",
    "- \\( k \\) is a rate constant that determines how rapidly the percentage decreases with increasing ping."
   ]
  }
 ],
 "metadata": {
  "language_info": {
   "name": "python"
  }
 },
 "nbformat": 4,
 "nbformat_minor": 2
}
